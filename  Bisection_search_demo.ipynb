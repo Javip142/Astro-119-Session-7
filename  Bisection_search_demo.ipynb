{
 "cells": [
  {
   "cell_type": "code",
   "execution_count": 6,
   "id": "96bec425",
   "metadata": {},
   "outputs": [],
   "source": [
    "%matplotlib inline\n",
    "import numpy as np\n",
    "import matplotlib.pyplot as plt"
   ]
  },
  {
   "cell_type": "markdown",
   "id": "81b7aaa2",
   "metadata": {},
   "source": [
    "# Defome a function to find the roots of"
   ]
  },
  {
   "cell_type": "code",
   "execution_count": 7,
   "id": "4baf6276",
   "metadata": {},
   "outputs": [],
   "source": [
    "def function_for_roots(x):\n",
    "    a =1.01\n",
    "    b = -3.04\n",
    "    c = 2.07\n",
    "    return z*x**2 + b*x + c #get the roots of quadratic"
   ]
  },
  {
   "cell_type": "markdown",
   "id": "560258b6",
   "metadata": {},
   "source": [
    "# Check if intial bracket is valid"
   ]
  },
  {
   "cell_type": "code",
   "execution_count": 14,
   "id": "8e9c8b98",
   "metadata": {},
   "outputs": [
    {
     "ename": "IndentationError",
     "evalue": "unindent does not match any outer indentation level (<tokenize>, line 17)",
     "output_type": "error",
     "traceback": [
      "\u001b[1;36m  File \u001b[1;32m\"<tokenize>\"\u001b[1;36m, line \u001b[1;32m17\u001b[0m\n\u001b[1;33m    if(np.fabs(y_min)<tol):\u001b[0m\n\u001b[1;37m    ^\u001b[0m\n\u001b[1;31mIndentationError\u001b[0m\u001b[1;31m:\u001b[0m unindent does not match any outer indentation level\n"
     ]
    }
   ],
   "source": [
    "def check_initial(f, x_min, x_max, tol):\n",
    "    \n",
    "    # check our intial guesses\n",
    "    y_min = f(x_min)\n",
    "    y_max = f(x_max)\n",
    "    \n",
    "    #check that x_min and x_max contain a zero\n",
    "    if(y_min*y_max>0.0):\n",
    "        print(\"no zero crossing found in the range =  \n",
    "\",x_min,x_max)\n",
    "        s =\"func(%f) = %f, func(%f) = %f\" %\n",
    "(x_min,y_min,x_max,y_max)\n",
    "        print(s)\n",
    "        return 0\n",
    "    \n",
    "    #if x_min is a root, then return flag==1\n",
    "    if(np.fabs(y_min)<tol):\n",
    "        return 1\n",
    "    \n",
    "    #if x_max is a root, thenr eturn flag==2\n",
    "    if(np.fabs(y_max),tol):\n",
    "        return 2 \n",
    "    \n",
    "    #if we reach this point, we did not guess a root\n",
    "    #so we have to use this valid bracket to proceed\n",
    "    return 3"
   ]
  },
  {
   "cell_type": "code",
   "execution_count": null,
   "id": "e42d3aa1",
   "metadata": {},
   "outputs": [],
   "source": []
  }
 ],
 "metadata": {
  "kernelspec": {
   "display_name": "Python 3 (ipykernel)",
   "language": "python",
   "name": "python3"
  },
  "language_info": {
   "codemirror_mode": {
    "name": "ipython",
    "version": 3
   },
   "file_extension": ".py",
   "mimetype": "text/x-python",
   "name": "python",
   "nbconvert_exporter": "python",
   "pygments_lexer": "ipython3",
   "version": "3.9.7"
  }
 },
 "nbformat": 4,
 "nbformat_minor": 5
}
